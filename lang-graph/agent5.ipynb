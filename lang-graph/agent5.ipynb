{
 "cells": [
  {
   "cell_type": "code",
   "execution_count": 2,
   "metadata": {},
   "outputs": [],
   "source": [
    "# Looping\n",
    "from langgraph.graph import START, END, StateGraph\n",
    "from typing import TypedDict, Dict, List"
   ]
  },
  {
   "cell_type": "code",
   "execution_count": 3,
   "metadata": {},
   "outputs": [],
   "source": [
    "class AgentState(TypedDict):\n",
    "    name:str\n",
    "    number: List[int]\n",
    "    counter:int"
   ]
  },
  {
   "cell_type": "code",
   "execution_count": 13,
   "metadata": {},
   "outputs": [],
   "source": [
    "def greeting(state:AgentState)->AgentState:\n",
    "    \"\"\"Greet the person\"\"\"\n",
    "    state[\"name\"] = f\"hello {state['name']}\"\n",
    "    state[\"counter\"] = 0\n",
    "    return state\n",
    "    \n",
    "def randoms(state:AgentState)->AgentState:\n",
    "    \"\"\"Random node\"\"\"\n",
    "    state[\"number\"].append(random.randint(0,10))\n",
    "    state[\"counter\"] += 1\n",
    "    return state\n",
    "\n",
    "def should_continue(state:AgentState)->AgentState:\n",
    "    \"\"\"Should continue loop\"\"\"\n",
    "    if state[\"counter\"] < 5:\n",
    "        return  \"loop\"\n",
    "    else:\n",
    "        return \"exit\"\n",
    "        \n",
    "    "
   ]
  },
  {
   "cell_type": "code",
   "execution_count": 14,
   "metadata": {},
   "outputs": [],
   "source": [
    "graph = StateGraph(AgentState)\n",
    "\n",
    "graph.add_node(\"greet\", greeting)\n",
    "graph.add_node(\"randoms\", randoms)\n",
    "\n",
    "graph.add_edge(START, \"greet\")\n",
    "graph.add_edge(\"greet\", \"randoms\")\n",
    "\n",
    "graph.add_conditional_edges(\"randoms\", should_continue, {\"loop\": \"randoms\", \"exit\": END})\n",
    "\n",
    "app = graph.compile()"
   ]
  },
  {
   "cell_type": "code",
   "execution_count": 10,
   "metadata": {},
   "outputs": [
    {
     "data": {
      "image/png": "[encoded data removed]",
      "text/plain": [
       "<IPython.core.display.Image object>"
      ]
     },
     "metadata": {},
     "output_type": "display_data"
    }
   ],
   "source": [
    "from IPython.display import display , Image\n",
    "\n",
    "display(Image(app.get_graph().draw_mermaid_png()))"
   ]
  },
  {
   "cell_type": "code",
   "execution_count": 16,
   "metadata": {},
   "outputs": [
    {
     "data": {
      "text/plain": [
       "{'name': 'hello Sam', 'number': [4, 9, 9, 7, 3], 'counter': 5}"
      ]
     },
     "execution_count": 16,
     "metadata": {},
     "output_type": "execute_result"
    }
   ],
   "source": [
    "app.invoke({\"name\": \"Sam\", \"number\": []})"
   ]
  },
  {
   "cell_type": "code",
   "execution_count": 17,
   "metadata": {},
   "outputs": [],
   "source": [
    "## Exercise\n",
    "class AgentState(TypedDict):\n",
    "    player_name:str\n",
    "    guesses : List[int]\n",
    "    attempts: int\n",
    "    lower_bound:int\n",
    "    upper_bound:int\n",
    "    "
   ]
  },
  {
   "cell_type": "code",
   "execution_count": null,
   "metadata": {},
   "outputs": [],
   "source": [
    "def setup(state:AgentState)->AgentState:\n",
    "    \"\"\"setup the game rules\"\"\" \n",
    "    state[\"name\"] = state[\"name\"]\n",
    "    state[\"lower_bound\"] = state[\"lower_bound\"]\n",
    "    state[\"upper_bound\"] = state[\"upper_bound\"]\n",
    "    return state\n",
    "\n",
    "def guess"
   ]
  }
 ],
 "metadata": {
  "kernelspec": {
   "display_name": "tensorflows",
   "language": "python",
   "name": "python3"
  },
  "language_info": {
   "codemirror_mode": {
    "name": "ipython",
    "version": 3
   },
   "file_extension": ".py",
   "mimetype": "text/x-python",
   "name": "python",
   "nbconvert_exporter": "python",
   "pygments_lexer": "ipython3",
   "version": "3.11.12"
  }
 },
 "nbformat": 4,
 "nbformat_minor": 2
}
