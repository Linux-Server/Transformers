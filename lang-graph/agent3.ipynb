{
 "cells": [
  {
   "cell_type": "code",
   "execution_count": 2,
   "metadata": {},
   "outputs": [],
   "source": [
    "from typing import TypedDict, List\n",
    "from langgraph.graph import StateGraph"
   ]
  },
  {
   "cell_type": "code",
   "execution_count": 3,
   "metadata": {},
   "outputs": [],
   "source": [
    "class AgentState(TypedDict):\n",
    "    name:str\n",
    "    age:str\n",
    "    final:str"
   ]
  },
  {
   "cell_type": "code",
   "execution_count": 11,
   "metadata": {},
   "outputs": [],
   "source": [
    "def first_node(state:AgentState)-> AgentState:\n",
    "    \"\"\"This is the first node\"\"\"\n",
    "    state['final'] = f\"Hi {state['name']}\"\n",
    "    return state\n",
    "\n",
    "def second_node(state:AgentState) ->  AgentState:\n",
    "    \"\"\"This is the second node\"\"\"\n",
    "    state['final'] = state['final'] + f\"Your age is {state['age']}\"\n",
    "    return state"
   ]
  },
  {
   "cell_type": "code",
   "execution_count": 12,
   "metadata": {},
   "outputs": [],
   "source": [
    "graph = StateGraph(AgentState)\n",
    "\n",
    "graph.add_node(\"first\", first_node)\n",
    "graph.add_node(\"second\", second_node)\n",
    "\n",
    "graph.add_edge(\"first\", \"second\")\n",
    "\n",
    "graph.set_entry_point(\"first\")\n",
    "graph.set_finish_point(\"second\")\n",
    "\n",
    "app = graph.compile()"
   ]
  },
  {
   "cell_type": "code",
   "execution_count": 13,
   "metadata": {},
   "outputs": [
    {
     "data": {
      "image/png": "[encoded data removed]",
      "text/plain": [
       "<IPython.core.display.Image object>"
      ]
     },
     "metadata": {},
     "output_type": "display_data"
    }
   ],
   "source": [
    "from IPython.display import display , Image\n",
    "\n",
    "display(Image(app.get_graph(). draw_mermaid_png()))"
   ]
  },
  {
   "cell_type": "code",
   "execution_count": 14,
   "metadata": {},
   "outputs": [
    {
     "data": {
      "text/plain": [
       "{'name': 'Sam', 'age': '22', 'final': 'Hi SamYour age is 22'}"
      ]
     },
     "execution_count": 14,
     "metadata": {},
     "output_type": "execute_result"
    }
   ],
   "source": [
    "app.invoke({\"name\":\"Sam\", \"age\": \"22\"})"
   ]
  },
  {
   "cell_type": "code",
   "execution_count": 27,
   "metadata": {},
   "outputs": [],
   "source": [
    "# Exercise\n",
    "from langgraph.graph import StateGraph\n",
    "from typing import TypedDict, List\n",
    "\n",
    "class AgentState(TypedDict):\n",
    "    name:str\n",
    "    age: str\n",
    "    skills : List[str]\n",
    "    greet: str"
   ]
  },
  {
   "cell_type": "code",
   "execution_count": 52,
   "metadata": {},
   "outputs": [],
   "source": [
    "def node_one(state:AgentState)-> AgentState:\n",
    "    \"\"\"This is the first node\"\"\"\n",
    "    state[\"greet\"] = f\"{state['name']} welcome to the system! \"    \n",
    "    return state\n",
    "\n",
    "def node_two(state:AgentState)-> AgentState:\n",
    "    \"\"\"This is the second node\"\"\"\n",
    "    state[\"greet\"] =  state['greet'] +  f\"You are {state['age']} years old!\"\n",
    "    return state\n",
    "\n",
    "def node_three(state: AgentState)-> AgentState:\n",
    "    \"\"\"This is the third state\"\"\"\n",
    "    state[\"greet\"] =  state['greet'] + f\"You have skills in {','.join(state['skills'])}\"\n",
    "    return state\n",
    "    "
   ]
  },
  {
   "cell_type": "code",
   "execution_count": 53,
   "metadata": {},
   "outputs": [],
   "source": [
    "# build the graph\n",
    "\n",
    "graph = StateGraph(AgentState)\n",
    "\n",
    "graph.add_node(\"one\", node_one)\n",
    "graph.add_node(\"two\", node_two)\n",
    "graph.add_node(\"three\", node_three)\n",
    "\n",
    "graph.add_edge(\"one\",\"two\")\n",
    "graph.add_edge(\"two\", \"three\")\n",
    "\n",
    "graph.set_entry_point(\"one\")\n",
    "graph.set_finish_point(\"three\")\n",
    "\n",
    "app = graph.compile()"
   ]
  },
  {
   "cell_type": "code",
   "execution_count": 30,
   "metadata": {},
   "outputs": [
    {
     "data": {
      "image/png": "[encoded data removed]",
      "text/plain": [
       "<IPython.core.display.Image object>"
      ]
     },
     "metadata": {},
     "output_type": "display_data"
    }
   ],
   "source": [
    "from IPython.display import display , Image\n",
    "\n",
    "display(Image(app.get_graph().draw_mermaid_png()))"
   ]
  },
  {
   "cell_type": "code",
   "execution_count": 54,
   "metadata": {},
   "outputs": [
    {
     "data": {
      "text/plain": [
       "{'name': 'Steve',\n",
       " 'age': '31',\n",
       " 'skills': ['scinece', 'maths'],\n",
       " 'greet': 'Steve welcome to the system! You are 31 years old!You have skills in scinece,maths'}"
      ]
     },
     "execution_count": 54,
     "metadata": {},
     "output_type": "execute_result"
    }
   ],
   "source": [
    "app.invoke({\"name\":\"Steve\", \"age\": \"31\", \"skills\": [\"scinece\", \"maths\"]})"
   ]
  },
  {
   "cell_type": "code",
   "execution_count": null,
   "metadata": {},
   "outputs": [],
   "source": []
  }
 ],
 "metadata": {
  "kernelspec": {
   "display_name": "tensorflows",
   "language": "python",
   "name": "python3"
  },
  "language_info": {
   "codemirror_mode": {
    "name": "ipython",
    "version": 3
   },
   "file_extension": ".py",
   "mimetype": "text/x-python",
   "name": "python",
   "nbconvert_exporter": "python",
   "pygments_lexer": "ipython3",
   "version": "3.11.12"
  }
 },
 "nbformat": 4,
 "nbformat_minor": 2
}
