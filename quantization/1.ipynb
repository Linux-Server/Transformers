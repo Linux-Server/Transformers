{
 "cells": [
  {
   "cell_type": "code",
   "execution_count": 1,
   "metadata": {},
   "outputs": [
    {
     "data": {
      "text/plain": [
       "'2.7.0'"
      ]
     },
     "execution_count": 1,
     "metadata": {},
     "output_type": "execute_result"
    }
   ],
   "source": [
    "import torch\n",
    "\n",
    "torch.__version__"
   ]
  },
  {
   "cell_type": "code",
   "execution_count": 11,
   "metadata": {},
   "outputs": [
    {
     "data": {
      "text/plain": [
       "iinfo(min=-128, max=127, dtype=int8)"
      ]
     },
     "execution_count": 11,
     "metadata": {},
     "output_type": "execute_result"
    }
   ],
   "source": [
    "torch.iinfo(torch.int8)"
   ]
  },
  {
   "cell_type": "code",
   "execution_count": 14,
   "metadata": {},
   "outputs": [
    {
     "data": {
      "text/plain": [
       "torch.float32"
      ]
     },
     "execution_count": 14,
     "metadata": {},
     "output_type": "execute_result"
    }
   ],
   "source": [
    "a = torch.tensor(200.0)\n",
    "a.dtype"
   ]
  },
  {
   "cell_type": "code",
   "execution_count": 17,
   "metadata": {},
   "outputs": [
    {
     "data": {
      "text/plain": [
       "torch.bfloat16"
      ]
     },
     "execution_count": 17,
     "metadata": {},
     "output_type": "execute_result"
    }
   ],
   "source": [
    "value = 1/3\n",
    "\n",
    "\n",
    "torch.tensor(value, dtype=torch.bfloat16).dtype"
   ]
  },
  {
   "cell_type": "code",
   "execution_count": 23,
   "metadata": {},
   "outputs": [
    {
     "data": {
      "text/plain": [
       "finfo(resolution=0.001, min=-65504, max=65504, eps=0.000976562, smallest_normal=6.10352e-05, tiny=6.10352e-05, dtype=float16)"
      ]
     },
     "execution_count": 23,
     "metadata": {},
     "output_type": "execute_result"
    }
   ],
   "source": [
    "torch.finfo(torch.float16)"
   ]
  },
  {
   "cell_type": "code",
   "execution_count": 40,
   "metadata": {},
   "outputs": [
    {
     "data": {
      "text/plain": [
       "(tensor([0.1187, 0.8646, 0.7262, 0.4502, 0.9990, 0.9399, 0.1079, 0.5605, 0.5624,\n",
       "         0.6059, 0.7320, 0.5956, 0.5435, 0.2013, 0.0925, 0.1315, 0.7033, 0.7244,\n",
       "         0.1204, 0.0698, 0.2157, 0.5229, 0.4701, 0.3596, 0.4544, 0.1914, 0.3127,\n",
       "         0.0295, 0.1517, 0.9562, 0.8454, 0.4976, 0.4202, 0.9166, 0.7552, 0.1282,\n",
       "         0.6820, 0.4865, 0.2344, 0.4125, 0.9615, 0.5040, 0.8760, 0.9647, 0.7420,\n",
       "         0.2581, 0.9745, 0.3714, 0.1012, 0.3274, 0.3449, 0.8576, 0.7104, 0.1139,\n",
       "         0.1492, 0.7106, 0.5854, 0.7123, 0.8821, 0.9405, 0.3593, 0.6694, 0.5322,\n",
       "         0.1505, 0.8486, 0.8781, 0.7309, 0.6888, 0.8889, 0.6150, 0.9884, 0.8852,\n",
       "         0.3714, 0.8542, 0.2471, 0.1383, 0.3484, 0.3971, 0.5118, 0.7622, 0.4023,\n",
       "         0.5579, 0.1845, 0.1017, 0.6237, 0.5337, 0.2274, 0.8699, 0.6574, 0.5302,\n",
       "         0.4186, 0.6573, 0.0429, 0.1687, 0.5794, 0.3496, 0.1307, 0.3607, 0.1341,\n",
       "         0.3024]),\n",
       " torch.float32)"
      ]
     },
     "execution_count": 40,
     "metadata": {},
     "output_type": "execute_result"
    }
   ],
   "source": [
    "a = torch.rand(100)\n",
    "a , a.dtype"
   ]
  },
  {
   "cell_type": "code",
   "execution_count": 41,
   "metadata": {},
   "outputs": [
    {
     "data": {
      "text/plain": [
       "tensor([0.1187, 0.8633, 0.7266, 0.4492, 1.0000, 0.9414, 0.1079, 0.5586, 0.5625,\n",
       "        0.6055, 0.7305, 0.5938, 0.5430, 0.2012, 0.0923, 0.1318, 0.7031, 0.7227,\n",
       "        0.1206, 0.0698, 0.2158, 0.5234, 0.4707, 0.3594, 0.4551, 0.1914, 0.3125,\n",
       "        0.0295, 0.1514, 0.9570, 0.8438, 0.4980, 0.4199, 0.9180, 0.7539, 0.1279,\n",
       "        0.6836, 0.4863, 0.2344, 0.4121, 0.9609, 0.5039, 0.8750, 0.9648, 0.7422,\n",
       "        0.2578, 0.9727, 0.3711, 0.1011, 0.3281, 0.3457, 0.8594, 0.7109, 0.1138,\n",
       "        0.1494, 0.7109, 0.5859, 0.7109, 0.8828, 0.9414, 0.3594, 0.6680, 0.5312,\n",
       "        0.1504, 0.8477, 0.8789, 0.7305, 0.6875, 0.8906, 0.6133, 0.9883, 0.8867,\n",
       "        0.3711, 0.8555, 0.2471, 0.1387, 0.3477, 0.3965, 0.5117, 0.7617, 0.4023,\n",
       "        0.5586, 0.1846, 0.1016, 0.6250, 0.5352, 0.2275, 0.8711, 0.6562, 0.5312,\n",
       "        0.4180, 0.6562, 0.0430, 0.1689, 0.5781, 0.3496, 0.1309, 0.3613, 0.1338,\n",
       "        0.3027], dtype=torch.bfloat16)"
      ]
     },
     "execution_count": 41,
     "metadata": {},
     "output_type": "execute_result"
    }
   ],
   "source": [
    "a.to(torch.bfloat16)"
   ]
  },
  {
   "cell_type": "code",
   "execution_count": 117,
   "metadata": {},
   "outputs": [],
   "source": [
    "from torch import nn\n",
    "\n",
    "\n",
    "model = nn.Sequential(\n",
    "    nn.Linear(in_features=5, out_features=100),\n",
    "    nn.Linear(in_features=100, out_features=500),\n",
    "    nn.Linear(in_features=500, out_features=5)\n",
    "   \n",
    ")"
   ]
  },
  {
   "cell_type": "code",
   "execution_count": 120,
   "metadata": {},
   "outputs": [
    {
     "name": "stdout",
     "output_type": "stream",
     "text": [
      "The name is 0.weight  and dtype is : torch.float16\n",
      "The name is 0.bias  and dtype is : torch.float16\n",
      "The name is 1.weight  and dtype is : torch.float16\n",
      "The name is 1.bias  and dtype is : torch.float16\n",
      "The name is 2.weight  and dtype is : torch.float16\n",
      "The name is 2.bias  and dtype is : torch.float16\n"
     ]
    }
   ],
   "source": [
    "for name, param in model.named_parameters():\n",
    "    print(f\"The name is {name}  and dtype is : {param.dtype}\")"
   ]
  },
  {
   "cell_type": "code",
   "execution_count": 121,
   "metadata": {},
   "outputs": [
    {
     "ename": "AttributeError",
     "evalue": "'Sequential' object has no attribute 'full'",
     "output_type": "error",
     "traceback": [
      "\u001b[31m---------------------------------------------------------------------------\u001b[39m",
      "\u001b[31mAttributeError\u001b[39m                            Traceback (most recent call last)",
      "\u001b[36mCell\u001b[39m\u001b[36m \u001b[39m\u001b[32mIn[121]\u001b[39m\u001b[32m, line 1\u001b[39m\n\u001b[32m----> \u001b[39m\u001b[32m1\u001b[39m \u001b[43mmodel\u001b[49m\u001b[43m.\u001b[49m\u001b[43mfull\u001b[49m()\n",
      "\u001b[36mFile \u001b[39m\u001b[32m~/anaconda3/envs/tensorflows/lib/python3.11/site-packages/torch/nn/modules/module.py:1940\u001b[39m, in \u001b[36mModule.__getattr__\u001b[39m\u001b[34m(self, name)\u001b[39m\n\u001b[32m   1938\u001b[39m     \u001b[38;5;28;01mif\u001b[39;00m name \u001b[38;5;129;01min\u001b[39;00m modules:\n\u001b[32m   1939\u001b[39m         \u001b[38;5;28;01mreturn\u001b[39;00m modules[name]\n\u001b[32m-> \u001b[39m\u001b[32m1940\u001b[39m \u001b[38;5;28;01mraise\u001b[39;00m \u001b[38;5;167;01mAttributeError\u001b[39;00m(\n\u001b[32m   1941\u001b[39m     \u001b[33mf\u001b[39m\u001b[33m\"\u001b[39m\u001b[33m'\u001b[39m\u001b[38;5;132;01m{\u001b[39;00m\u001b[38;5;28mtype\u001b[39m(\u001b[38;5;28mself\u001b[39m).\u001b[34m__name__\u001b[39m\u001b[38;5;132;01m}\u001b[39;00m\u001b[33m'\u001b[39m\u001b[33m object has no attribute \u001b[39m\u001b[33m'\u001b[39m\u001b[38;5;132;01m{\u001b[39;00mname\u001b[38;5;132;01m}\u001b[39;00m\u001b[33m'\u001b[39m\u001b[33m\"\u001b[39m\n\u001b[32m   1942\u001b[39m )\n",
      "\u001b[31mAttributeError\u001b[39m: 'Sequential' object has no attribute 'full'"
     ]
    }
   ],
   "source": [
    "model.full()"
   ]
  },
  {
   "cell_type": "code",
   "execution_count": 129,
   "metadata": {},
   "outputs": [
    {
     "name": "stdout",
     "output_type": "stream",
     "text": [
      "torch.float16\n",
      "torch.float16\n",
      "torch.float16\n",
      "torch.float16\n",
      "torch.float16\n",
      "torch.float16\n"
     ]
    }
   ],
   "source": [
    "for i in model.:\n",
    "    print(i.dtype)"
   ]
  },
  {
   "cell_type": "code",
   "execution_count": 132,
   "metadata": {},
   "outputs": [],
   "source": [
    "from transformers import BlipForConditionalGeneration\n",
    "\n",
    "model_name = \"Salesforce/blip-image-captioning-base\""
   ]
  },
  {
   "cell_type": "code",
   "execution_count": 133,
   "metadata": {},
   "outputs": [
    {
     "data": {
      "application/vnd.jupyter.widget-view+json": {
       "model_id": "dc5cb5a3a85b4869961a31a0d55ca94a",
       "version_major": 2,
       "version_minor": 0
      },
      "text/plain": [
       "config.json:   0%|          | 0.00/4.56k [00:00<?, ?B/s]"
      ]
     },
     "metadata": {},
     "output_type": "display_data"
    },
    {
     "data": {
      "application/vnd.jupyter.widget-view+json": {
       "model_id": "13a517910b114464be88c13a3a6465b0",
       "version_major": 2,
       "version_minor": 0
      },
      "text/plain": [
       "pytorch_model.bin:   0%|          | 0.00/990M [00:00<?, ?B/s]"
      ]
     },
     "metadata": {},
     "output_type": "display_data"
    },
    {
     "data": {
      "application/vnd.jupyter.widget-view+json": {
       "model_id": "a9e3ed6d38424c1d9d8e95b96042f87e",
       "version_major": 2,
       "version_minor": 0
      },
      "text/plain": [
       "model.safetensors:   0%|          | 0.00/990M [00:00<?, ?B/s]"
      ]
     },
     "metadata": {},
     "output_type": "display_data"
    }
   ],
   "source": [
    "model = BlipForConditionalGeneration.from_pretrained(model_name)"
   ]
  },
  {
   "cell_type": "code",
   "execution_count": 147,
   "metadata": {},
   "outputs": [
    {
     "data": {
      "text/plain": [
       "989.6604"
      ]
     },
     "execution_count": 147,
     "metadata": {},
     "output_type": "execute_result"
    }
   ],
   "source": [
    "model.get_memory_footprint() / 1e+6"
   ]
  },
  {
   "cell_type": "code",
   "execution_count": 142,
   "metadata": {},
   "outputs": [
    {
     "data": {
      "text/plain": [
       "1000000.0"
      ]
     },
     "execution_count": 142,
     "metadata": {},
     "output_type": "execute_result"
    }
   ],
   "source": [
    "1e+6"
   ]
  },
  {
   "cell_type": "code",
   "execution_count": 143,
   "metadata": {},
   "outputs": [
    {
     "data": {
      "text/plain": [
       "1048576"
      ]
     },
     "execution_count": 143,
     "metadata": {},
     "output_type": "execute_result"
    }
   ],
   "source": [
    "1024 *1024"
   ]
  },
  {
   "cell_type": "code",
   "execution_count": 148,
   "metadata": {},
   "outputs": [],
   "source": [
    "small_model = BlipForConditionalGeneration.from_pretrained(model_name, torch_dtype = torch.bfloat16)"
   ]
  },
  {
   "cell_type": "code",
   "execution_count": 150,
   "metadata": {},
   "outputs": [
    {
     "data": {
      "text/plain": [
       "494.832248"
      ]
     },
     "execution_count": 150,
     "metadata": {},
     "output_type": "execute_result"
    }
   ],
   "source": [
    "small_model.get_memory_footprint() / 1e+6"
   ]
  },
  {
   "cell_type": "code",
   "execution_count": null,
   "metadata": {},
   "outputs": [],
   "source": []
  }
 ],
 "metadata": {
  "kernelspec": {
   "display_name": "tensorflows",
   "language": "python",
   "name": "python3"
  },
  "language_info": {
   "codemirror_mode": {
    "name": "ipython",
    "version": 3
   },
   "file_extension": ".py",
   "mimetype": "text/x-python",
   "name": "python",
   "nbconvert_exporter": "python",
   "pygments_lexer": "ipython3",
   "version": "3.11.12"
  }
 },
 "nbformat": 4,
 "nbformat_minor": 2
}
