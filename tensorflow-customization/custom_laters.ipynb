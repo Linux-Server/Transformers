{
 "cells": [
  {
   "cell_type": "code",
   "execution_count": 1,
   "metadata": {},
   "outputs": [
    {
     "data": {
      "text/plain": [
       "'2.19.0'"
      ]
     },
     "execution_count": 1,
     "metadata": {},
     "output_type": "execute_result"
    }
   ],
   "source": [
    "import tensorflow as tf\n",
    "\n",
    "tf.__version__"
   ]
  },
  {
   "cell_type": "code",
   "execution_count": 5,
   "metadata": {},
   "outputs": [
    {
     "data": {
      "text/plain": [
       "[PhysicalDevice(name='/physical_device:CPU:0', device_type='CPU')]"
      ]
     },
     "execution_count": 5,
     "metadata": {},
     "output_type": "execute_result"
    }
   ],
   "source": [
    "tf.config.list_physical_devices(\"CPU\")"
   ]
  },
  {
   "cell_type": "code",
   "execution_count": 12,
   "metadata": {},
   "outputs": [
    {
     "data": {
      "text/plain": [
       "<tf.Tensor: shape=(1, 10), dtype=float32, numpy=\n",
       "array([[-1.5772262 , -2.7641056 , -1.0926543 , -2.756566  ,  0.7889005 ,\n",
       "         0.9992567 , -0.27903444,  1.6173749 ,  1.6865108 ,  0.9020742 ]],\n",
       "      dtype=float32)>"
      ]
     },
     "execution_count": 12,
     "metadata": {},
     "output_type": "execute_result"
    }
   ],
   "source": [
    "layers = tf.keras.layers.Dense(10)\n",
    "layers(tf.constant([[1,2,3]]))"
   ]
  },
  {
   "cell_type": "code",
   "execution_count": 17,
   "metadata": {},
   "outputs": [
    {
     "data": {
      "text/plain": [
       "[<Variable path=dense_3/kernel, shape=(3, 10), dtype=float32, value=[[ 0.07094359 -0.18989     0.02215946 -0.35714257 -0.18287686 -0.1150043\n",
       "    0.22892755  0.37041295 -0.5237254  -0.14813691]\n",
       "  [-0.19945243 -0.48717734  0.17000872 -0.50054616 -0.35170335  0.5416782\n",
       "    0.25230455  0.37122703  0.667963    0.59622   ]\n",
       "  [-0.41642165 -0.533287   -0.48494375 -0.4661104   0.5583947   0.01030153\n",
       "   -0.3375237   0.16816932  0.29143673 -0.04740965]]>,\n",
       " <Variable path=dense_3/bias, shape=(10,), dtype=float32, value=[0. 0. 0. 0. 0. 0. 0. 0. 0. 0.]>]"
      ]
     },
     "execution_count": 17,
     "metadata": {},
     "output_type": "execute_result"
    }
   ],
   "source": [
    "layers.variables"
   ]
  },
  {
   "cell_type": "code",
   "execution_count": 21,
   "metadata": {},
   "outputs": [
    {
     "data": {
      "text/plain": [
       "<Variable path=dense_3/kernel, shape=(3, 10), dtype=float32, value=[[ 0.07094359 -0.18989     0.02215946 -0.35714257 -0.18287686 -0.1150043\n",
       "   0.22892755  0.37041295 -0.5237254  -0.14813691]\n",
       " [-0.19945243 -0.48717734  0.17000872 -0.50054616 -0.35170335  0.5416782\n",
       "   0.25230455  0.37122703  0.667963    0.59622   ]\n",
       " [-0.41642165 -0.533287   -0.48494375 -0.4661104   0.5583947   0.01030153\n",
       "  -0.3375237   0.16816932  0.29143673 -0.04740965]]>"
      ]
     },
     "execution_count": 21,
     "metadata": {},
     "output_type": "execute_result"
    }
   ],
   "source": [
    "layers.kernel"
   ]
  },
  {
   "cell_type": "code",
   "execution_count": 34,
   "metadata": {},
   "outputs": [],
   "source": [
    "## custom layer\n",
    "class MyDenseLayer(tf.keras.layers.Layer):\n",
    "  def __init__(self, num_outputs):\n",
    "    super(MyDenseLayer, self).__init__()\n",
    "    self.num_outputs = num_outputs\n",
    "\n",
    "  def build(self, input_shape):\n",
    "    self.kernel = self.add_weight(name=\"kernel\",\n",
    "                                  shape=[int(input_shape[-1]),\n",
    "                                         self.num_outputs])\n",
    "\n",
    "  def call(self, inputs):\n",
    "    return tf.matmul(inputs, self.kernel)\n",
    "\n",
    "layer = MyDenseLayer(10)"
   ]
  },
  {
   "cell_type": "code",
   "execution_count": 35,
   "metadata": {},
   "outputs": [],
   "source": [
    "_ = layer(tf.zeros([10, 5])) # Calling the layer `.builds` it."
   ]
  },
  {
   "cell_type": "code",
   "execution_count": 36,
   "metadata": {},
   "outputs": [
    {
     "name": "stdout",
     "output_type": "stream",
     "text": [
      "['kernel']\n"
     ]
    }
   ],
   "source": [
    "print([var.name for var in layer.trainable_variables])"
   ]
  },
  {
   "cell_type": "code",
   "execution_count": 39,
   "metadata": {},
   "outputs": [
    {
     "data": {
      "text/plain": [
       "[<Variable path=my_dense_layer_4/kernel, shape=(5, 10), dtype=float32, value=[[ 0.32184196  0.559678    0.38839227 -0.08829612 -0.05308878  0.2202357\n",
       "   -0.37967002 -0.5035489  -0.135407    0.39494962]\n",
       "  [ 0.11231577 -0.3526702  -0.22764713 -0.51420456  0.01587415  0.14626002\n",
       "    0.17090291  0.38204736  0.34501958  0.45052975]\n",
       "  [-0.05474174 -0.02559286  0.1884774  -0.44285142 -0.27013212  0.00472891\n",
       "    0.46406013 -0.5151975   0.17948961  0.02622795]\n",
       "  [-0.56637955  0.4998482   0.4109426   0.37556094 -0.01280457  0.32640707\n",
       "    0.6231155   0.23118132 -0.5988772   0.23924011]\n",
       "  [-0.17487049  0.2796831   0.10662872 -0.46825445 -0.52604663  0.5157469\n",
       "    0.50990707 -0.5846819  -0.1122545   0.00099188]]>]"
      ]
     },
     "execution_count": 39,
     "metadata": {},
     "output_type": "execute_result"
    }
   ],
   "source": [
    "layer.variables"
   ]
  },
  {
   "cell_type": "code",
   "execution_count": 1,
   "metadata": {},
   "outputs": [
    {
     "data": {
      "text/plain": [
       "'4.9.9+nightly'"
      ]
     },
     "execution_count": 1,
     "metadata": {},
     "output_type": "execute_result"
    }
   ],
   "source": [
    "import os\n",
    "import tensorflow as tf\n",
    "import tensorflow_datasets as tfds\n",
    "import matplotlib.pyplot as plt\n",
    "\n",
    "tfds.__version__"
   ]
  },
  {
   "cell_type": "code",
   "execution_count": 2,
   "metadata": {},
   "outputs": [
    {
     "name": "stderr",
     "output_type": "stream",
     "text": [
      "WARNING:absl:Variant folder /Users/sachinmurali/tensorflow_datasets/penguins/simple/1.0.0 has no dataset_info.json\n"
     ]
    },
    {
     "name": "stdout",
     "output_type": "stream",
     "text": [
      "\u001b[1mDownloading and preparing dataset Unknown size (download: Unknown size, generated: Unknown size, total: Unknown size) to /Users/sachinmurali/tensorflow_datasets/penguins/simple/1.0.0...\u001b[0m\n"
     ]
    },
    {
     "data": {
      "application/vnd.jupyter.widget-view+json": {
       "model_id": "ffacdc4427c6432098c18547c1df19bb",
       "version_major": 2,
       "version_minor": 0
      },
      "text/plain": [
       "Dl Completed...: 0 url [00:00, ? url/s]"
      ]
     },
     "metadata": {},
     "output_type": "display_data"
    },
    {
     "data": {
      "application/vnd.jupyter.widget-view+json": {
       "model_id": "874162673081417dad0c615d1f4c46cf",
       "version_major": 2,
       "version_minor": 0
      },
      "text/plain": [
       "Dl Size...: 0 MiB [00:00, ? MiB/s]"
      ]
     },
     "metadata": {},
     "output_type": "display_data"
    },
    {
     "data": {
      "application/vnd.jupyter.widget-view+json": {
       "model_id": "a30d684c006f47deb465aa942637258f",
       "version_major": 2,
       "version_minor": 0
      },
      "text/plain": [
       "Generating splits...:   0%|          | 0/1 [00:00<?, ? splits/s]"
      ]
     },
     "metadata": {},
     "output_type": "display_data"
    },
    {
     "data": {
      "application/vnd.jupyter.widget-view+json": {
       "model_id": "d6345c137e094d3ba26b60c8b055deb6",
       "version_major": 2,
       "version_minor": 0
      },
      "text/plain": [
       "Generating train examples...: 0 examples [00:00, ? examples/s]"
      ]
     },
     "metadata": {},
     "output_type": "display_data"
    },
    {
     "data": {
      "application/vnd.jupyter.widget-view+json": {
       "model_id": "b8482eca5e7b4dd6863ce123dcc12f47",
       "version_major": 2,
       "version_minor": 0
      },
      "text/plain": [
       "Shuffling /Users/sachinmurali/tensorflow_datasets/penguins/simple/incomplete.CSUN41_1.0.0/penguins-train.tfrec…"
      ]
     },
     "metadata": {},
     "output_type": "display_data"
    },
    {
     "name": "stdout",
     "output_type": "stream",
     "text": [
      "\u001b[1mDataset penguins downloaded and prepared to /Users/sachinmurali/tensorflow_datasets/penguins/simple/1.0.0. Subsequent calls will reuse this data.\u001b[0m\n"
     ]
    }
   ],
   "source": [
    "ds_preview , info = tfds.load('penguins/simple', split='train', with_info=True)"
   ]
  },
  {
   "cell_type": "code",
   "execution_count": 4,
   "metadata": {},
   "outputs": [
    {
     "data": {
      "text/plain": [
       "<_PrefetchDataset element_spec={'body_mass_g': TensorSpec(shape=(), dtype=tf.float32, name=None), 'culmen_depth_mm': TensorSpec(shape=(), dtype=tf.float32, name=None), 'culmen_length_mm': TensorSpec(shape=(), dtype=tf.float32, name=None), 'flipper_length_mm': TensorSpec(shape=(), dtype=tf.float32, name=None), 'island': TensorSpec(shape=(), dtype=tf.int64, name=None), 'sex': TensorSpec(shape=(), dtype=tf.int64, name=None), 'species': TensorSpec(shape=(), dtype=tf.int64, name=None)}>"
      ]
     },
     "execution_count": 4,
     "metadata": {},
     "output_type": "execute_result"
    }
   ],
   "source": [
    "ds_preview"
   ]
  },
  {
   "cell_type": "code",
   "execution_count": 13,
   "metadata": {},
   "outputs": [
    {
     "name": "stderr",
     "output_type": "stream",
     "text": [
      "2025-06-05 12:14:09.168004: W tensorflow/core/kernels/data/cache_dataset_ops.cc:916] The calling iterator did not fully read the dataset being cached. In order to avoid unexpected truncation of the dataset, the partially cached contents of the dataset  will be discarded. This can happen if you have an input pipeline similar to `dataset.cache().take(k).repeat()`. You should use `dataset.take(k).cache().repeat()` instead.\n"
     ]
    },
    {
     "data": {
      "text/html": [
       "<style type=\"text/css\">\n",
       "</style>\n",
       "<table id=\"T_a2c81\">\n",
       "  <thead>\n",
       "    <tr>\n",
       "      <th class=\"blank level0\" >&nbsp;</th>\n",
       "      <th id=\"T_a2c81_level0_col0\" class=\"col_heading level0 col0\" >body_mass_g</th>\n",
       "      <th id=\"T_a2c81_level0_col1\" class=\"col_heading level0 col1\" >culmen_depth_mm</th>\n",
       "      <th id=\"T_a2c81_level0_col2\" class=\"col_heading level0 col2\" >culmen_length_mm</th>\n",
       "      <th id=\"T_a2c81_level0_col3\" class=\"col_heading level0 col3\" >flipper_length_mm</th>\n",
       "      <th id=\"T_a2c81_level0_col4\" class=\"col_heading level0 col4\" >island</th>\n",
       "      <th id=\"T_a2c81_level0_col5\" class=\"col_heading level0 col5\" >sex</th>\n",
       "      <th id=\"T_a2c81_level0_col6\" class=\"col_heading level0 col6\" >species</th>\n",
       "    </tr>\n",
       "  </thead>\n",
       "  <tbody>\n",
       "    <tr>\n",
       "      <th id=\"T_a2c81_level0_row0\" class=\"row_heading level0 row0\" >0</th>\n",
       "      <td id=\"T_a2c81_row0_col0\" class=\"data row0 col0\" >4200.0</td>\n",
       "      <td id=\"T_a2c81_row0_col1\" class=\"data row0 col1\" >13.899999618530273</td>\n",
       "      <td id=\"T_a2c81_row0_col2\" class=\"data row0 col2\" >45.5</td>\n",
       "      <td id=\"T_a2c81_row0_col3\" class=\"data row0 col3\" >210.0</td>\n",
       "      <td id=\"T_a2c81_row0_col4\" class=\"data row0 col4\" >0 (Biscoe)</td>\n",
       "      <td id=\"T_a2c81_row0_col5\" class=\"data row0 col5\" >0 (FEMALE)</td>\n",
       "      <td id=\"T_a2c81_row0_col6\" class=\"data row0 col6\" >2 (Gentoo)</td>\n",
       "    </tr>\n",
       "    <tr>\n",
       "      <th id=\"T_a2c81_level0_row1\" class=\"row_heading level0 row1\" >1</th>\n",
       "      <td id=\"T_a2c81_row1_col0\" class=\"data row1 col0\" >4650.0</td>\n",
       "      <td id=\"T_a2c81_row1_col1\" class=\"data row1 col1\" >13.699999809265137</td>\n",
       "      <td id=\"T_a2c81_row1_col2\" class=\"data row1 col2\" >40.900001525878906</td>\n",
       "      <td id=\"T_a2c81_row1_col3\" class=\"data row1 col3\" >214.0</td>\n",
       "      <td id=\"T_a2c81_row1_col4\" class=\"data row1 col4\" >0 (Biscoe)</td>\n",
       "      <td id=\"T_a2c81_row1_col5\" class=\"data row1 col5\" >0 (FEMALE)</td>\n",
       "      <td id=\"T_a2c81_row1_col6\" class=\"data row1 col6\" >2 (Gentoo)</td>\n",
       "    </tr>\n",
       "    <tr>\n",
       "      <th id=\"T_a2c81_level0_row2\" class=\"row_heading level0 row2\" >2</th>\n",
       "      <td id=\"T_a2c81_row2_col0\" class=\"data row2 col0\" >5300.0</td>\n",
       "      <td id=\"T_a2c81_row2_col1\" class=\"data row2 col1\" >14.199999809265137</td>\n",
       "      <td id=\"T_a2c81_row2_col2\" class=\"data row2 col2\" >51.29999923706055</td>\n",
       "      <td id=\"T_a2c81_row2_col3\" class=\"data row2 col3\" >218.0</td>\n",
       "      <td id=\"T_a2c81_row2_col4\" class=\"data row2 col4\" >0 (Biscoe)</td>\n",
       "      <td id=\"T_a2c81_row2_col5\" class=\"data row2 col5\" >1 (MALE)</td>\n",
       "      <td id=\"T_a2c81_row2_col6\" class=\"data row2 col6\" >2 (Gentoo)</td>\n",
       "    </tr>\n",
       "    <tr>\n",
       "      <th id=\"T_a2c81_level0_row3\" class=\"row_heading level0 row3\" >3</th>\n",
       "      <td id=\"T_a2c81_row3_col0\" class=\"data row3 col0\" >5650.0</td>\n",
       "      <td id=\"T_a2c81_row3_col1\" class=\"data row3 col1\" >15.0</td>\n",
       "      <td id=\"T_a2c81_row3_col2\" class=\"data row3 col2\" >47.79999923706055</td>\n",
       "      <td id=\"T_a2c81_row3_col3\" class=\"data row3 col3\" >215.0</td>\n",
       "      <td id=\"T_a2c81_row3_col4\" class=\"data row3 col4\" >0 (Biscoe)</td>\n",
       "      <td id=\"T_a2c81_row3_col5\" class=\"data row3 col5\" >1 (MALE)</td>\n",
       "      <td id=\"T_a2c81_row3_col6\" class=\"data row3 col6\" >2 (Gentoo)</td>\n",
       "    </tr>\n",
       "    <tr>\n",
       "      <th id=\"T_a2c81_level0_row4\" class=\"row_heading level0 row4\" >4</th>\n",
       "      <td id=\"T_a2c81_row4_col0\" class=\"data row4 col0\" >5050.0</td>\n",
       "      <td id=\"T_a2c81_row4_col1\" class=\"data row4 col1\" >15.800000190734863</td>\n",
       "      <td id=\"T_a2c81_row4_col2\" class=\"data row4 col2\" >46.29999923706055</td>\n",
       "      <td id=\"T_a2c81_row4_col3\" class=\"data row4 col3\" >215.0</td>\n",
       "      <td id=\"T_a2c81_row4_col4\" class=\"data row4 col4\" >0 (Biscoe)</td>\n",
       "      <td id=\"T_a2c81_row4_col5\" class=\"data row4 col5\" >1 (MALE)</td>\n",
       "      <td id=\"T_a2c81_row4_col6\" class=\"data row4 col6\" >2 (Gentoo)</td>\n",
       "    </tr>\n",
       "  </tbody>\n",
       "</table>\n"
      ],
      "text/plain": [
       "   body_mass_g  culmen_depth_mm  culmen_length_mm  flipper_length_mm  island  \\\n",
       "0       4200.0             13.9         45.500000              210.0       0   \n",
       "1       4650.0             13.7         40.900002              214.0       0   \n",
       "2       5300.0             14.2         51.299999              218.0       0   \n",
       "3       5650.0             15.0         47.799999              215.0       0   \n",
       "4       5050.0             15.8         46.299999              215.0       0   \n",
       "\n",
       "   sex  species  \n",
       "0    0        2  \n",
       "1    0        2  \n",
       "2    1        2  \n",
       "3    1        2  \n",
       "4    1        2  "
      ]
     },
     "execution_count": 13,
     "metadata": {},
     "output_type": "execute_result"
    }
   ],
   "source": [
    "df = tfds.as_dataframe(ds_preview.take(5).cache(), info)\n",
    "\n",
    "df\n"
   ]
  },
  {
   "cell_type": "code",
   "execution_count": 14,
   "metadata": {},
   "outputs": [
    {
     "name": "stderr",
     "output_type": "stream",
     "text": [
      "WARNING:absl:Variant folder /Users/sachinmurali/tensorflow_datasets/penguins/processed/1.0.0 has no dataset_info.json\n"
     ]
    },
    {
     "name": "stdout",
     "output_type": "stream",
     "text": [
      "\u001b[1mDownloading and preparing dataset Unknown size (download: Unknown size, generated: Unknown size, total: Unknown size) to /Users/sachinmurali/tensorflow_datasets/penguins/processed/1.0.0...\u001b[0m\n"
     ]
    },
    {
     "data": {
      "application/vnd.jupyter.widget-view+json": {
       "model_id": "b7cf6f5158964c908b7545a994470922",
       "version_major": 2,
       "version_minor": 0
      },
      "text/plain": [
       "Dl Completed...: 0 url [00:00, ? url/s]"
      ]
     },
     "metadata": {},
     "output_type": "display_data"
    },
    {
     "data": {
      "application/vnd.jupyter.widget-view+json": {
       "model_id": "a49956e5f1d44e038e34ee572fd6990b",
       "version_major": 2,
       "version_minor": 0
      },
      "text/plain": [
       "Dl Size...: 0 MiB [00:00, ? MiB/s]"
      ]
     },
     "metadata": {},
     "output_type": "display_data"
    },
    {
     "data": {
      "application/vnd.jupyter.widget-view+json": {
       "model_id": "8cd7ace727a64b91879e83aee182d56d",
       "version_major": 2,
       "version_minor": 0
      },
      "text/plain": [
       "Generating splits...:   0%|          | 0/1 [00:00<?, ? splits/s]"
      ]
     },
     "metadata": {},
     "output_type": "display_data"
    },
    {
     "data": {
      "application/vnd.jupyter.widget-view+json": {
       "model_id": "0c6c373141cd46d2a4c84a8d16185de9",
       "version_major": 2,
       "version_minor": 0
      },
      "text/plain": [
       "Generating train examples...: 0 examples [00:00, ? examples/s]"
      ]
     },
     "metadata": {},
     "output_type": "display_data"
    },
    {
     "data": {
      "application/vnd.jupyter.widget-view+json": {
       "model_id": "c1c274a209dc45cc9e0942dd3908ecff",
       "version_major": 2,
       "version_minor": 0
      },
      "text/plain": [
       "Shuffling /Users/sachinmurali/tensorflow_datasets/penguins/processed/incomplete.ID7KS5_1.0.0/penguins-train.tf…"
      ]
     },
     "metadata": {},
     "output_type": "display_data"
    },
    {
     "name": "stdout",
     "output_type": "stream",
     "text": [
      "\u001b[1mDataset penguins downloaded and prepared to /Users/sachinmurali/tensorflow_datasets/penguins/processed/1.0.0. Subsequent calls will reuse this data.\u001b[0m\n"
     ]
    },
    {
     "data": {
      "text/plain": [
       "[<_PrefetchDataset element_spec=(TensorSpec(shape=(4,), dtype=tf.float32, name=None), TensorSpec(shape=(), dtype=tf.int64, name=None))>,\n",
       " <_PrefetchDataset element_spec=(TensorSpec(shape=(4,), dtype=tf.float32, name=None), TensorSpec(shape=(), dtype=tf.int64, name=None))>]"
      ]
     },
     "execution_count": 14,
     "metadata": {},
     "output_type": "execute_result"
    }
   ],
   "source": [
    "ds_split, info = tfds.load(\"penguins/processed\", split=['train[:20%]', 'train[20%:]'], as_supervised=True, with_info=True)\n",
    "\n"
   ]
  },
  {
   "cell_type": "code",
   "execution_count": 18,
   "metadata": {},
   "outputs": [
    {
     "data": {
      "text/plain": [
       "[<_PrefetchDataset element_spec=(TensorSpec(shape=(4,), dtype=tf.float32, name=None), TensorSpec(shape=(), dtype=tf.int64, name=None))>,\n",
       " <_PrefetchDataset element_spec=(TensorSpec(shape=(4,), dtype=tf.float32, name=None), TensorSpec(shape=(), dtype=tf.int64, name=None))>]"
      ]
     },
     "execution_count": 18,
     "metadata": {},
     "output_type": "execute_result"
    }
   ],
   "source": [
    "ds_split"
   ]
  },
  {
   "cell_type": "code",
   "execution_count": null,
   "metadata": {},
   "outputs": [],
   "source": []
  }
 ],
 "metadata": {
  "kernelspec": {
   "display_name": "tensorflows",
   "language": "python",
   "name": "python3"
  },
  "language_info": {
   "codemirror_mode": {
    "name": "ipython",
    "version": 3
   },
   "file_extension": ".py",
   "mimetype": "text/x-python",
   "name": "python",
   "nbconvert_exporter": "python",
   "pygments_lexer": "ipython3",
   "version": "3.11.12"
  }
 },
 "nbformat": 4,
 "nbformat_minor": 2
}
